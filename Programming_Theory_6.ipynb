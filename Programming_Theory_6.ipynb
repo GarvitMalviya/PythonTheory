{
 "cells": [
  {
   "cell_type": "markdown",
   "id": "f8fb962a",
   "metadata": {},
   "source": [
    "### 1.What are Escape characters ? and how do you use them ?"
   ]
  },
  {
   "cell_type": "raw",
   "id": "9ec7baba",
   "metadata": {},
   "source": [
    "Escape characters represent characters in string values that would otherwise be difficult or impossible to type into code. we can use the backslash character to escape a single character or symbol\n",
    "example: \\t, \\n"
   ]
  },
  {
   "cell_type": "markdown",
   "id": "1a5eea1c",
   "metadata": {},
   "source": [
    "### 2.What do the escape characters n and t stand for ?"
   ]
  },
  {
   "cell_type": "raw",
   "id": "5078d31b",
   "metadata": {},
   "source": [
    "\\n is a newline, \\t is a tab"
   ]
  },
  {
   "cell_type": "markdown",
   "id": "dd006cff",
   "metadata": {},
   "source": [
    "### 3.What is the way to include backslash character in a string?"
   ]
  },
  {
   "cell_type": "raw",
   "id": "4d11c771",
   "metadata": {},
   "source": [
    "The \\\\ escape character will represent the backslash character in a string"
   ]
  },
  {
   "cell_type": "markdown",
   "id": "90300b8f",
   "metadata": {},
   "source": [
    "### 4.The string \"Howl's Moving Castle\" is a correct value. Why isn't the single quote character in the word Howl's not escaped a problem ?"
   ]
  },
  {
   "cell_type": "raw",
   "id": "69900ae5",
   "metadata": {},
   "source": [
    "The string \"Howl's Moving Castle\" escaped the problem because it is wrapped inside double quotes. if its wrapped inside single quotes then we have to use escape character \\' to show single quote in the final output\n",
    "'Howl\\'s Moving Castle' -> 'Howl's Moving Castle'"
   ]
  },
  {
   "cell_type": "markdown",
   "id": "39e00503",
   "metadata": {},
   "source": [
    "### 5.How do you write a string of newlines if you don't want to use the n character?"
   ]
  },
  {
   "cell_type": "code",
   "execution_count": 1,
   "id": "9771e682",
   "metadata": {},
   "outputs": [
    {
     "name": "stdout",
     "output_type": "stream",
     "text": [
      "iNeuron full stack\n",
      "Data Science Course\n"
     ]
    }
   ],
   "source": [
    "a = '''iNeuron full stack\n",
    "Data Science Course'''\n",
    "print(a)"
   ]
  },
  {
   "cell_type": "markdown",
   "id": "b54c23bb",
   "metadata": {},
   "source": [
    "### 6.What are the values of the given expressions ?'Hello, world!'[1]'Hello, world!'[0:5] 'Hello, world!'[:5]'Hello, world!'[3:]"
   ]
  },
  {
   "cell_type": "raw",
   "id": "8a880758",
   "metadata": {},
   "source": [
    "'Hello, world!'[1] -> 'e'\n",
    "'Hello, world!'[0:5] -> 'Hello'\n",
    "'Hello, world!'[:5] -> 'Hello'\n",
    "'Hello, world!'[3:] -> 'lo, world!'"
   ]
  },
  {
   "cell_type": "markdown",
   "id": "d5e4e00b",
   "metadata": {},
   "source": [
    "### 7.What are the values of the following expressions ?"
   ]
  },
  {
   "cell_type": "raw",
   "id": "ce5a5f17",
   "metadata": {},
   "source": [
    "'Hello'.upper()\n",
    "'Hello'.upper().isupper()\n",
    "'Hello'.upper().lower()"
   ]
  },
  {
   "cell_type": "raw",
   "id": "35cd5513",
   "metadata": {},
   "source": [
    "The values for the given expressions are:\n",
    "'Hello'.upper() -> 'HELLO'\n",
    "'Hello'.upper().isupper() -> True\n",
    "'Hello'.upper().lower() -> 'hello'"
   ]
  },
  {
   "cell_type": "markdown",
   "id": "fc91f594",
   "metadata": {},
   "source": [
    "### 8.What are the values of the following expressions ?"
   ]
  },
  {
   "cell_type": "raw",
   "id": "2d940d1e",
   "metadata": {},
   "source": [
    "'Remember, remember, the fifith of July.'.split()\n",
    "-'.join('There can only one'.split())"
   ]
  },
  {
   "cell_type": "code",
   "execution_count": null,
   "id": "f9be911c",
   "metadata": {},
   "outputs": [],
   "source": []
  }
 ],
 "metadata": {
  "kernelspec": {
   "display_name": "Python 3 (ipykernel)",
   "language": "python",
   "name": "python3"
  },
  "language_info": {
   "codemirror_mode": {
    "name": "ipython",
    "version": 3
   },
   "file_extension": ".py",
   "mimetype": "text/x-python",
   "name": "python",
   "nbconvert_exporter": "python",
   "pygments_lexer": "ipython3",
   "version": "3.9.7"
  }
 },
 "nbformat": 4,
 "nbformat_minor": 5
}
