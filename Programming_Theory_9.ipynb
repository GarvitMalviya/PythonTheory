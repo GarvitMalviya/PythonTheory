{
 "cells": [
  {
   "cell_type": "markdown",
   "id": "fc887b42",
   "metadata": {},
   "source": [
    "### 1.To what does a relative path refer ?"
   ]
  },
  {
   "cell_type": "raw",
   "id": "3e9476c2",
   "metadata": {},
   "source": [
    "The relative path is the path to some file with respect to your current working directory (PWD).\n",
    "For example: if Absolute path to a file called stuff.txt is: C:/users/admin/docs/stuff.txt If my PWD is C:/users/admin/ , then the relative path to stuff.txt would be: docs/stuff.txt\n",
    "Note: PWD + relative path = absolute path"
   ]
  },
  {
   "cell_type": "markdown",
   "id": "dfe91852",
   "metadata": {},
   "source": [
    "### 2.Where does an absolute path start with your Operating System ?"
   ]
  },
  {
   "cell_type": "raw",
   "id": "71efaeb4",
   "metadata": {},
   "source": [
    "In Linux based systems the absolute path starts with /. Where as in Windows based systems absolute path starts with C"
   ]
  },
  {
   "cell_type": "markdown",
   "id": "ff930541",
   "metadata": {},
   "source": [
    "### 3.What does the functions os.getcwd() and os.chdir() do ?"
   ]
  },
  {
   "cell_type": "raw",
   "id": "e3364074",
   "metadata": {},
   "source": [
    "os.getcwd() method tells us the location of current working directory (CWD). Whereas os.chdir() method in Python used to change the current working directory to specified path. These functions are similar to linux commands pwd and cd"
   ]
  },
  {
   "cell_type": "markdown",
   "id": "864bfb48",
   "metadata": {},
   "source": [
    "### 4.What are . and .. folders ?"
   ]
  },
  {
   "cell_type": "raw",
   "id": "ec7ea3b9",
   "metadata": {},
   "source": [
    ". Represents the Current Directory Whereas .. Represents the Parent Directory of the Current Directory\n",
    "For Example: if the below path is my absolute path:\n",
    "C:\\\\Users\\\\vishnu\\\\Documents\\\\iNeuron-Assignments\\\\Python Basic Assignment\n",
    "Then . represents the path C:\\\\Users\\\\vishnu\\\\Documents\\\\iNeuron-Assignments\\\\Python Basic Assignment\n",
    "Where as .. represents the path C:\\\\Users\\\\vishnu\\\\Documents\\\\iNeuron-Assignments"
   ]
  },
  {
   "cell_type": "markdown",
   "id": "768a6dfc",
   "metadata": {},
   "source": [
    "### 5.In C:\\bacon\\eggs\\spam.txt which part is the dir name and which part is the base name ?"
   ]
  },
  {
   "cell_type": "raw",
   "id": "56213030",
   "metadata": {},
   "source": [
    "For C:\\bacon\\eggs\\spam.txt\n",
    "The dir name is C:\\\\bacon\\\\eggs\n",
    "The Base name is spam.txt"
   ]
  },
  {
   "cell_type": "markdown",
   "id": "d8c90ddf",
   "metadata": {},
   "source": [
    "### 6.What are the three mode arguments that can be passed to the open() function ?"
   ]
  },
  {
   "cell_type": "raw",
   "id": "8c3f4bfc",
   "metadata": {},
   "source": [
    "A file can be Accessed in python using open() function. open function takes two arguments filename and mode of operation (optional). if mode is not provided the default mode of opening is read mode\n",
    "So, the syntax being: open(filename, mode)\n",
    "\n",
    "‘r’ – Read Mode: This is the default mode for open(). The file is opened and a pointer is positioned at the beginning of the file’s content.\n",
    "‘w’ – Write Mode: Using this mode will overwrite any existing content in a file. If the given file does not exist, a new one will be created.\n",
    "‘r+’ – Read/Write Mode: Use this mode if you need to simultaneously read and write to a file.\n",
    "‘a’ – Append Mode: With this mode the user can append the data without overwriting any already existing data in the file.\n",
    "‘a+’ – Append and Read Mode: In this mode you can read and append the data without overwriting the original file.\n",
    "‘x’ – Exclusive Creating Mode: This mode is for the sole purpose of creating new files. Use this mode if you know the file to be written doesn’t exist beforehand."
   ]
  },
  {
   "cell_type": "markdown",
   "id": "f7394450",
   "metadata": {},
   "source": [
    "### 7.What happens if an existing file is opened in write mode ?"
   ]
  },
  {
   "cell_type": "code",
   "execution_count": null,
   "id": "e9b2a469",
   "metadata": {},
   "outputs": [],
   "source": []
  }
 ],
 "metadata": {
  "kernelspec": {
   "display_name": "Python 3 (ipykernel)",
   "language": "python",
   "name": "python3"
  },
  "language_info": {
   "codemirror_mode": {
    "name": "ipython",
    "version": 3
   },
   "file_extension": ".py",
   "mimetype": "text/x-python",
   "name": "python",
   "nbconvert_exporter": "python",
   "pygments_lexer": "ipython3",
   "version": "3.9.7"
  }
 },
 "nbformat": 4,
 "nbformat_minor": 5
}
