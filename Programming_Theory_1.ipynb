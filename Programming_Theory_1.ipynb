{
 "cells": [
  {
   "cell_type": "markdown",
   "id": "19a15e12",
   "metadata": {},
   "source": [
    "### 1. In the below elements which of them are values or an expression? eg:- values can be integer or string and expressions will be mathematical operators."
   ]
  },
  {
   "cell_type": "raw",
   "id": "14d5bf96",
   "metadata": {},
   "source": [
    "* : expression\n",
    "\n",
    "'hello':value\n",
    "\n",
    "-87.8 :value\n",
    "\n",
    "- :expression\n",
    "\n",
    "/ :expression \n",
    "\n",
    "+ :expression\n",
    "\n",
    "6 :value"
   ]
  },
  {
   "cell_type": "markdown",
   "id": "e86aa38e",
   "metadata": {},
   "source": [
    "### 2. What is the difference between string and variable?"
   ]
  },
  {
   "cell_type": "raw",
   "id": "5d044926",
   "metadata": {},
   "source": [
    "Vairable: A variable is something that holds a value that may change. In simplest terms, a variable is just a box that you can put stuff in. You can use variables to store all kinds of stuff, but for now, we are just going to look at storing numbers in variables.\n",
    "For Eg: X = 7\n",
    "        print(X)\n",
    "    \n",
    "\n",
    "String : A 'string' is simply a list of characters in order. A character is anything you can type on the keyboard in one keystroke, like a letter, a number, or a backslash. For example, \"hello\" is a string. It is five characters long — h, e, l, l, o. Strings can also have spaces: \"hello world\" contains 11 characters: 10 letters and the space between \"hello\" and \"world\". There are no limits to the number of characters you can have in a string — you can have anywhere from one to a million or more. You can even have a string that has 0 characters, which is usually called an \"empty string.\"\n",
    "For Eg: print ('I am a single quoted string')\n",
    "        I am a single quoted string"
   ]
  },
  {
   "cell_type": "markdown",
   "id": "35010c66",
   "metadata": {},
   "source": [
    "### 3. Describe three different datatypes."
   ]
  },
  {
   "cell_type": "raw",
   "id": "bc9dc1b1",
   "metadata": {},
   "source": [
    "Data types are the classification of data items. Data types represents a kind of value which determines what can be done to that data.\n",
    "Three different datatypes are as follows:\n",
    "    1.Integers – This value is represented by int class. It contains positive or negative whole numbers (without fraction or decimal). In Python there is no limit to how long an integer value can be.\n",
    "    2.Float – This value is represented by float class. It is a real number with floating point representation. It is specified by a decimal point. Optionally, the character e or E followed by a positive or negative integer may be appended to specify scientific notation.\n",
    "    3.Complex Numbers – Complex number is represented by complex class. It is specified as (real part) + (imaginary part)j. For example – 2+3j"
   ]
  },
  {
   "cell_type": "markdown",
   "id": "b59a46eb",
   "metadata": {},
   "source": [
    "### 4. What is an expression made up of? What do all expressions do?"
   ]
  },
  {
   "cell_type": "raw",
   "id": "abb8e17d",
   "metadata": {},
   "source": [
    "An expression is a combination of operators and operands that is interpreted to produce some other value. In any programming language, an expression is evaluated as per the precedence of its operators. So that if there is more than one operator in an expression, their precedence decides which operation will be performed first.\n",
    "1. Constant Expressions: These are the expressions that have constant values only.\n",
    "2. Arithmetic Expressions: An arithmetic expression is a combination of numeric values, operators, and sometimes parenthesis. The result of this type of expression is also a numeric value. \n"
   ]
  },
  {
   "cell_type": "markdown",
   "id": "20430d10",
   "metadata": {},
   "source": [
    "### 5.This assignment statements, like spam = 10. What is the difference between an expression and a statement?"
   ]
  },
  {
   "cell_type": "raw",
   "id": "2dab1355",
   "metadata": {},
   "source": [
    "An Expression is a sequence or combination of values, variables, operators and function calls that always produces or returns a result value.\n",
    "Example: x = 5, y = 3, z = x + y\n",
    "In the above example x, y and z are variables, 5 and 3 are values, = and + are operators.\n",
    "So, the first combination x = 5 is an expression, the second combination y = 3 is an another expression and at last, z = x + y is also an expression.\n",
    "An Expression always evaluates (calculate) to itself.\n",
    "Evaluation of an expression: It simply means that, to calculate or to solve the value of something. Such as in the above example: z = x + y, which is equivalent to z = 5 + 3. So, here we are calculating the value of z. and, hence, z = 8."
   ]
  },
  {
   "cell_type": "raw",
   "id": "1ffc7c74",
   "metadata": {},
   "source": [
    "An Instruction is an order/command given to a computer processor by a computer program to perform some mathematical or logical manipulations (calculations).\n",
    "Each and every line or a sentence in any programming language is called an instruction.\n",
    "A Statement is the smallest executable unit of code that has an effect, like creating a variable or displaying a value.\n",
    "Each and every line of code that we write in any programming language is called a statement."
   ]
  },
  {
   "cell_type": "markdown",
   "id": "10c3974e",
   "metadata": {},
   "source": [
    "### 6.After running the following code, what does the variable bacon contain? bacon = 22 bacon + 1"
   ]
  },
  {
   "cell_type": "code",
   "execution_count": 1,
   "id": "95c882ee",
   "metadata": {},
   "outputs": [],
   "source": [
    "bacon = 22"
   ]
  },
  {
   "cell_type": "code",
   "execution_count": 2,
   "id": "dc9c0ee8",
   "metadata": {},
   "outputs": [
    {
     "data": {
      "text/plain": [
       "23"
      ]
     },
     "execution_count": 2,
     "metadata": {},
     "output_type": "execute_result"
    }
   ],
   "source": [
    "bacon+1"
   ]
  },
  {
   "cell_type": "markdown",
   "id": "ec0474a5",
   "metadata": {},
   "source": [
    "### 7. What should the values of the following two terms be?&#39;spam&#39; + &#39;spamspam&#39; &#39;spam&#39; * 3"
   ]
  },
  {
   "cell_type": "code",
   "execution_count": 3,
   "id": "3abd6a9b",
   "metadata": {},
   "outputs": [
    {
     "data": {
      "text/plain": [
       "'spamspamspam'"
      ]
     },
     "execution_count": 3,
     "metadata": {},
     "output_type": "execute_result"
    }
   ],
   "source": [
    "'spam'+'spamspam'"
   ]
  },
  {
   "cell_type": "code",
   "execution_count": 4,
   "id": "54821ded",
   "metadata": {},
   "outputs": [
    {
     "data": {
      "text/plain": [
       "'spamspamspam'"
      ]
     },
     "execution_count": 4,
     "metadata": {},
     "output_type": "execute_result"
    }
   ],
   "source": [
    "'spam'*3"
   ]
  },
  {
   "cell_type": "markdown",
   "id": "e98ef1bb",
   "metadata": {},
   "source": [
    "### 8. Why is eggs a valid variable name while 100 is invalid?"
   ]
  },
  {
   "cell_type": "raw",
   "id": "0ea54f33",
   "metadata": {},
   "source": [
    " Because variable does not start with number."
   ]
  },
  {
   "cell_type": "markdown",
   "id": "cc7e60f8",
   "metadata": {},
   "source": [
    "### 9.What three functions can be used to get the integer, floating-point number, or string version of a value?"
   ]
  },
  {
   "cell_type": "raw",
   "id": "0ae9c39c",
   "metadata": {},
   "source": [
    "The int(), float(), and str() functions will evaluate to the integer, floating-point number, and string versions of the value passed to them."
   ]
  },
  {
   "cell_type": "markdown",
   "id": "5297d12f",
   "metadata": {},
   "source": [
    "### 10.Why does this expression cause an error? How can you fix it?I have eaten  + 99 +  burritos.;"
   ]
  },
  {
   "cell_type": "raw",
   "id": "f721ca0a",
   "metadata": {},
   "source": [
    "Because 99 is an integer it cannot be concatenated with strings, if we have to concatenate it we need to do typecasting."
   ]
  },
  {
   "cell_type": "code",
   "execution_count": null,
   "id": "66358873",
   "metadata": {},
   "outputs": [],
   "source": []
  }
 ],
 "metadata": {
  "kernelspec": {
   "display_name": "Python 3 (ipykernel)",
   "language": "python",
   "name": "python3"
  },
  "language_info": {
   "codemirror_mode": {
    "name": "ipython",
    "version": 3
   },
   "file_extension": ".py",
   "mimetype": "text/x-python",
   "name": "python",
   "nbconvert_exporter": "python",
   "pygments_lexer": "ipython3",
   "version": "3.9.7"
  }
 },
 "nbformat": 4,
 "nbformat_minor": 5
}
